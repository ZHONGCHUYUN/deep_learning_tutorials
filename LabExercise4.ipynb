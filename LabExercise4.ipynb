{
 "cells": [
  {
   "cell_type": "markdown",
   "metadata": {},
   "source": [
    "# CO460 - Deep Learning - Lab exercise 4"
   ]
  },
  {
   "cell_type": "markdown",
   "metadata": {},
   "source": [
    "## Introduction\n",
    "\n",
    "In this exercise, you will experiment with a GAN and a Conditional GAN architecture.\n",
    "You are asked to:\n",
    "\n",
    "1.  Experiment with the architectures\n",
    "2.  Define the training strategy\n",
    "3.  Investigate and implement sampling and interpolation in the latent space."
   ]
  },
  {
   "cell_type": "code",
   "execution_count": 59,
   "metadata": {},
   "outputs": [],
   "source": [
    "import os\n",
    "import torch\n",
    "import torch.nn as nn\n",
    "import torch.optim as optim\n",
    "from torch.utils.data import DataLoader\n",
    "from torchvision import datasets, transforms\n",
    "from torchvision.utils import save_image, make_grid\n",
    "import torch.nn.functional as F\n",
    "from utils import *\n",
    "import matplotlib.pyplot as plt\n",
    "import numpy as np"
   ]
  },
  {
   "cell_type": "markdown",
   "metadata": {},
   "source": [
    "### Device selection"
   ]
  },
  {
   "cell_type": "code",
   "execution_count": 60,
   "metadata": {},
   "outputs": [
    {
     "name": "stdout",
     "output_type": "stream",
     "text": [
      "cuda:0\n"
     ]
    }
   ],
   "source": [
    "GPU = True\n",
    "device_idx = 0\n",
    "if GPU:\n",
    "    device = torch.device(\"cuda:\" + str(device_idx) if torch.cuda.is_available() else \"cpu\")\n",
    "else:\n",
    "    device = torch.device(\"cpu\")\n",
    "print(device)"
   ]
  },
  {
   "cell_type": "markdown",
   "metadata": {},
   "source": [
    "### Reproducibility"
   ]
  },
  {
   "cell_type": "code",
   "execution_count": 61,
   "metadata": {},
   "outputs": [
    {
     "data": {
      "text/plain": [
       "<torch._C.Generator at 0x7f6e9f995230>"
      ]
     },
     "execution_count": 61,
     "metadata": {},
     "output_type": "execute_result"
    }
   ],
   "source": [
    "# We set a random seed to ensure that your results are reproducible.\n",
    "if torch.cuda.is_available():\n",
    "    torch.backends.cudnn.deterministic = True\n",
    "torch.manual_seed(0)"
   ]
  },
  {
   "cell_type": "code",
   "execution_count": 62,
   "metadata": {},
   "outputs": [],
   "source": [
    "transform = transforms.Compose([\n",
    "     transforms.ToTensor(),\n",
    "     transforms.Normalize(mean=(0.5, 0.5, 0.5), std=(0.5, 0.5, 0.5))\n",
    "])\n",
    "\n",
    "train_dat = datasets.MNIST(\n",
    "    \"data/\", train=True, download=True, transform=transform\n",
    ")\n",
    "test_dat = datasets.MNIST(\"./data/\", train=False, transform=transform)\n",
    "\n",
    "denorm = denorm_for_tanh\n",
    "\n",
    "if not os.path.exists('./cGAN'):\n",
    "    os.mkdir('./cGAN')\n",
    "    \n",
    "if not os.path.exists('./GAN'):\n",
    "    os.mkdir('./GAN')"
   ]
  },
  {
   "cell_type": "markdown",
   "metadata": {},
   "source": [
    "### Hyper-parameter selection"
   ]
  },
  {
   "cell_type": "code",
   "execution_count": 63,
   "metadata": {},
   "outputs": [],
   "source": [
    "\"\"\"\n",
    "TODO: Define here your hyperparameters\n",
    "\"\"\"\n",
    "\n",
    "num_epochs = None\n",
    "batch_size = None\n",
    "learning_rate = None\n",
    "noise_dim = None\n",
    "\n",
    "\n",
    "in_dim = np.prod(train_dat[0][0].shape)\n",
    "out_shape = train_dat[0][0].shape\n",
    "sample_interval = 5"
   ]
  },
  {
   "cell_type": "code",
   "execution_count": 67,
   "metadata": {
    "scrolled": true
   },
   "outputs": [],
   "source": [
    "num_epochs = 20\n",
    "batch_size = 128\n",
    "learning_rate = 0.01\n",
    "noise_dim = 784\n",
    "in_dim = np.prod(train_dat[0][0].shape)\n",
    "out_shape = train_dat[0][0].shape\n",
    "\n",
    "train_loader = DataLoader(train_dat, batch_size, shuffle=True, num_workers=16)\n",
    "test_loader = DataLoader(test_dat, batch_size, shuffle=False, num_workers=16)\n"
   ]
  },
  {
   "cell_type": "markdown",
   "metadata": {},
   "source": [
    "### Define the model"
   ]
  },
  {
   "cell_type": "code",
   "execution_count": 153,
   "metadata": {},
   "outputs": [],
   "source": [
    "class Generator(torch.nn.Module):\n",
    "\n",
    "    def __init__(self):\n",
    "        super(Generator, self).__init__()\n",
    "        \"\"\"\n",
    "        TODO: Layer definitions for the Generator\n",
    "        \"\"\"\n",
    "        self.hidden0 = nn.Sequential(nn.Linear(noise_dim, 256), nn.ReLU())\n",
    "        self.batch_norm0 = nn.BatchNorm1d(784)\n",
    "        self.hidden1 = nn.Sequential(nn.Linear(256, 512), nn.ReLU())\n",
    "        self.batch_norm1 = nn.BatchNorm1d(256)\n",
    "        self.hidden2 = nn.Sequential(nn.Linear(512, 1024), nn.ReLU())\n",
    "        self.batch_norm2 = nn.BatchNorm1d(512)\n",
    "        self.out = nn.Sequential(nn.Linear(1024, 784), nn.Tanh())\n",
    "\n",
    "    def forward(self, x):\n",
    "    \n",
    "        \"\"\"\n",
    "        TODO: Generator pipeline. Your output should have the same dimensions as the real images\n",
    "        \"\"\"\n",
    "        x = self.hidden0(self.batch_norm0(x))\n",
    "        x = self.hidden1(self.batch_norm1(x))\n",
    "        x = self.hidden2(self.batch_norm2(x))\n",
    "        x = self.out(x)\n",
    "        x = x.view(x.size(0), -1)\n",
    "        return x\n",
    "    \n",
    "    \n",
    "    \n",
    "    \n",
    "    \n",
    "class Discriminator(torch.nn.Module):\n",
    "\n",
    "    def __init__(self):\n",
    "        super(Discriminator, self).__init__()\n",
    "        \"\"\"\n",
    "        TODO: Layer definitions for the Discriminator\n",
    "        \"\"\"\n",
    "        self.batch_norm0 = nn.BatchNorm1d(784)\n",
    "        self.hidden0 = nn.Sequential(nn.Linear(784, 1024), nn.ReLU())\n",
    "        self.batch_norm1 = nn.BatchNorm1d(1024)\n",
    "        self.hidden1 = nn.Sequential(nn.Linear(1024, 512), nn.ReLU())\n",
    "        self.batch_norm2 = nn.BatchNorm1d(512)\n",
    "        self.hidden2 = nn.Sequential(nn.Linear(512, 256),nn.ReLU())\n",
    "        self.batch_norm3 = nn.BatchNorm1d(256)\n",
    "        self.out = nn.Sequential(nn.Linear(256, 1), nn.Sigmoid())\n",
    "\n",
    "    def forward(self, x):\n",
    "        \"\"\"\n",
    "        TODO: Discriminator pipeline. Your output should have only one dimension.\n",
    "        \"\"\"\n",
    "        x = x.view(x.size(0), -1)\n",
    "        x = self.hidden0(self.batch_norm0(x))\n",
    "        x = self.hidden1(self.batch_norm1(x))\n",
    "        x = self.hidden2(self.batch_norm2(x))\n",
    "        x = self.out(self.batch_norm3(x))\n",
    "            \n",
    "        return x\n"
   ]
  },
  {
   "cell_type": "code",
   "execution_count": 154,
   "metadata": {},
   "outputs": [],
   "source": [
    "generator = Generator()\n",
    "discriminator = Discriminator()\n"
   ]
  },
  {
   "cell_type": "markdown",
   "metadata": {},
   "source": [
    "### Define Loss function"
   ]
  },
  {
   "cell_type": "code",
   "execution_count": 155,
   "metadata": {},
   "outputs": [],
   "source": [
    "criterion = nn.BCELoss(reduction='mean')\n",
    "def loss_function(out, label):\n",
    "    loss = criterion(out, label)\n",
    "    return loss"
   ]
  },
  {
   "cell_type": "markdown",
   "metadata": {},
   "source": [
    "### Initialize Model and print number of parameters"
   ]
  },
  {
   "cell_type": "code",
   "execution_count": 156,
   "metadata": {},
   "outputs": [
    {
     "name": "stdout",
     "output_type": "stream",
     "text": [
      "Total number of generator parameters is: 1664560\n",
      "Generator(\n",
      "  (hidden0): Sequential(\n",
      "    (0): Linear(in_features=784, out_features=256, bias=True)\n",
      "    (1): ReLU()\n",
      "  )\n",
      "  (batch_norm0): BatchNorm1d(784, eps=1e-05, momentum=0.1, affine=True, track_running_stats=True)\n",
      "  (hidden1): Sequential(\n",
      "    (0): Linear(in_features=256, out_features=512, bias=True)\n",
      "    (1): ReLU()\n",
      "  )\n",
      "  (batch_norm1): BatchNorm1d(256, eps=1e-05, momentum=0.1, affine=True, track_running_stats=True)\n",
      "  (hidden2): Sequential(\n",
      "    (0): Linear(in_features=512, out_features=1024, bias=True)\n",
      "    (1): ReLU()\n",
      "  )\n",
      "  (batch_norm2): BatchNorm1d(512, eps=1e-05, momentum=0.1, affine=True, track_running_stats=True)\n",
      "  (out): Sequential(\n",
      "    (0): Linear(in_features=1024, out_features=784, bias=True)\n",
      "    (1): Tanh()\n",
      "  )\n",
      ")\n",
      "Total number of discriminator parameters is: 1465377\n",
      "Discriminator(\n",
      "  (batch_norm0): BatchNorm1d(784, eps=1e-05, momentum=0.1, affine=True, track_running_stats=True)\n",
      "  (hidden0): Sequential(\n",
      "    (0): Linear(in_features=784, out_features=1024, bias=True)\n",
      "    (1): ReLU()\n",
      "  )\n",
      "  (batch_norm1): BatchNorm1d(1024, eps=1e-05, momentum=0.1, affine=True, track_running_stats=True)\n",
      "  (hidden1): Sequential(\n",
      "    (0): Linear(in_features=1024, out_features=512, bias=True)\n",
      "    (1): ReLU()\n",
      "  )\n",
      "  (batch_norm2): BatchNorm1d(512, eps=1e-05, momentum=0.1, affine=True, track_running_stats=True)\n",
      "  (hidden2): Sequential(\n",
      "    (0): Linear(in_features=512, out_features=256, bias=True)\n",
      "    (1): ReLU()\n",
      "  )\n",
      "  (batch_norm3): BatchNorm1d(256, eps=1e-05, momentum=0.1, affine=True, track_running_stats=True)\n",
      "  (out): Sequential(\n",
      "    (0): Linear(in_features=256, out_features=1, bias=True)\n",
      "    (1): Sigmoid()\n",
      "  )\n",
      ")\n"
     ]
    }
   ],
   "source": [
    "generator = generator.to(device)\n",
    "discriminator = discriminator.to(device)\n",
    "\n",
    "params = sum(p.numel() for p in generator.parameters() if p.requires_grad)\n",
    "print(\"Total number of generator parameters is: {}\".format(params))  # what would the number actually be\n",
    "print(generator)\n",
    "\n",
    "params = sum(p.numel() for p in discriminator.parameters() if p.requires_grad)\n",
    "print(\"Total number of discriminator parameters is: {}\".format(params))  # what would the number actually be\n",
    "print(discriminator)"
   ]
  },
  {
   "cell_type": "markdown",
   "metadata": {},
   "source": [
    "### Choose and initialize optimizer"
   ]
  },
  {
   "cell_type": "code",
   "execution_count": 157,
   "metadata": {},
   "outputs": [],
   "source": [
    "optimizer_G = torch.optim.Adam(generator.parameters(), lr=learning_rate)\n",
    "optimizer_D = torch.optim.Adam(discriminator.parameters(), lr=learning_rate)"
   ]
  },
  {
   "cell_type": "markdown",
   "metadata": {},
   "source": [
    "### Pick a noise distribution"
   ]
  },
  {
   "cell_type": "code",
   "execution_count": 158,
   "metadata": {},
   "outputs": [],
   "source": [
    "def generate_noise(batch_size, noise_dim):\n",
    "    \"\"\"\n",
    "    TODO: Define here your noise distribution (probably gaussian or uniform)\n",
    "    \"\"\"\n",
    "    noise = torch.randn(batch_size, noise_dim)\n",
    "    return noise                        "
   ]
  },
  {
   "cell_type": "markdown",
   "metadata": {},
   "source": [
    " ### Train"
   ]
  },
  {
   "cell_type": "code",
   "execution_count": 159,
   "metadata": {},
   "outputs": [
    {
     "name": "stdout",
     "output_type": "stream",
     "text": [
      "epoch [1/200], generator loss:0.6948\n",
      "epoch [1/200], discriminator loss:1.3896\n",
      "epoch [2/200], generator loss:0.6932\n",
      "epoch [2/200], discriminator loss:1.3863\n",
      "epoch [3/200], generator loss:0.6931\n",
      "epoch [3/200], discriminator loss:1.3863\n",
      "epoch [4/200], generator loss:0.6932\n",
      "epoch [4/200], discriminator loss:1.3863\n",
      "epoch [5/200], generator loss:0.6932\n",
      "epoch [5/200], discriminator loss:1.3863\n",
      "epoch [6/200], generator loss:0.6932\n",
      "epoch [6/200], discriminator loss:1.3863\n",
      "epoch [7/200], generator loss:0.6932\n",
      "epoch [7/200], discriminator loss:1.3863\n",
      "epoch [8/200], generator loss:0.6932\n",
      "epoch [8/200], discriminator loss:1.3863\n",
      "epoch [9/200], generator loss:0.6932\n",
      "epoch [9/200], discriminator loss:1.3863\n",
      "epoch [10/200], generator loss:0.6932\n",
      "epoch [10/200], discriminator loss:1.3863\n",
      "epoch [11/200], generator loss:0.6932\n",
      "epoch [11/200], discriminator loss:1.3863\n",
      "epoch [12/200], generator loss:0.6932\n",
      "epoch [12/200], discriminator loss:1.3863\n",
      "epoch [13/200], generator loss:0.6932\n",
      "epoch [13/200], discriminator loss:1.3863\n",
      "epoch [14/200], generator loss:0.6932\n",
      "epoch [14/200], discriminator loss:1.3863\n",
      "epoch [15/200], generator loss:0.6932\n",
      "epoch [15/200], discriminator loss:1.3863\n",
      "epoch [16/200], generator loss:0.6931\n",
      "epoch [16/200], discriminator loss:1.3863\n",
      "epoch [17/200], generator loss:0.6931\n",
      "epoch [17/200], discriminator loss:1.3863\n",
      "epoch [18/200], generator loss:0.6931\n",
      "epoch [18/200], discriminator loss:1.3863\n",
      "epoch [19/200], generator loss:0.6931\n",
      "epoch [19/200], discriminator loss:1.3863\n",
      "epoch [20/200], generator loss:0.6931\n",
      "epoch [20/200], discriminator loss:1.3863\n",
      "epoch [21/200], generator loss:0.6931\n",
      "epoch [21/200], discriminator loss:1.3863\n",
      "epoch [22/200], generator loss:0.6931\n",
      "epoch [22/200], discriminator loss:1.3863\n",
      "epoch [23/200], generator loss:0.6931\n",
      "epoch [23/200], discriminator loss:1.3863\n",
      "epoch [24/200], generator loss:0.6931\n",
      "epoch [24/200], discriminator loss:1.3863\n",
      "epoch [25/200], generator loss:0.6931\n",
      "epoch [25/200], discriminator loss:1.3863\n",
      "epoch [26/200], generator loss:0.6931\n",
      "epoch [26/200], discriminator loss:1.3863\n",
      "epoch [27/200], generator loss:0.6931\n",
      "epoch [27/200], discriminator loss:1.3863\n",
      "epoch [28/200], generator loss:0.6931\n",
      "epoch [28/200], discriminator loss:1.3863\n",
      "epoch [29/200], generator loss:0.6931\n",
      "epoch [29/200], discriminator loss:1.3863\n",
      "epoch [30/200], generator loss:0.6931\n",
      "epoch [30/200], discriminator loss:1.3863\n",
      "epoch [31/200], generator loss:0.6932\n",
      "epoch [31/200], discriminator loss:1.3863\n",
      "epoch [32/200], generator loss:0.6931\n",
      "epoch [32/200], discriminator loss:1.3863\n",
      "epoch [33/200], generator loss:0.6931\n",
      "epoch [33/200], discriminator loss:1.3863\n",
      "epoch [34/200], generator loss:0.6931\n",
      "epoch [34/200], discriminator loss:1.3863\n",
      "epoch [35/200], generator loss:0.6931\n",
      "epoch [35/200], discriminator loss:1.3863\n",
      "epoch [36/200], generator loss:0.6931\n",
      "epoch [36/200], discriminator loss:1.3863\n",
      "epoch [37/200], generator loss:0.6931\n",
      "epoch [37/200], discriminator loss:1.3863\n",
      "epoch [38/200], generator loss:0.6931\n",
      "epoch [38/200], discriminator loss:1.3863\n",
      "epoch [39/200], generator loss:0.6931\n",
      "epoch [39/200], discriminator loss:1.3863\n",
      "epoch [40/200], generator loss:0.6931\n",
      "epoch [40/200], discriminator loss:1.3863\n",
      "epoch [41/200], generator loss:0.6931\n",
      "epoch [41/200], discriminator loss:1.3863\n",
      "epoch [42/200], generator loss:0.6931\n",
      "epoch [42/200], discriminator loss:1.3863\n",
      "epoch [43/200], generator loss:0.6931\n",
      "epoch [43/200], discriminator loss:1.3863\n",
      "epoch [44/200], generator loss:0.6931\n",
      "epoch [44/200], discriminator loss:1.3863\n",
      "epoch [45/200], generator loss:0.6931\n",
      "epoch [45/200], discriminator loss:1.3863\n",
      "epoch [46/200], generator loss:0.6931\n",
      "epoch [46/200], discriminator loss:1.3863\n",
      "epoch [47/200], generator loss:0.6931\n",
      "epoch [47/200], discriminator loss:1.3863\n",
      "epoch [48/200], generator loss:0.6931\n",
      "epoch [48/200], discriminator loss:1.3863\n",
      "epoch [49/200], generator loss:0.6931\n",
      "epoch [49/200], discriminator loss:1.3863\n",
      "epoch [50/200], generator loss:0.6931\n",
      "epoch [50/200], discriminator loss:1.3863\n",
      "epoch [51/200], generator loss:0.6931\n",
      "epoch [51/200], discriminator loss:1.3863\n",
      "epoch [52/200], generator loss:0.6931\n",
      "epoch [52/200], discriminator loss:1.3863\n",
      "epoch [53/200], generator loss:0.6931\n",
      "epoch [53/200], discriminator loss:1.3863\n",
      "epoch [54/200], generator loss:0.6932\n",
      "epoch [54/200], discriminator loss:1.3863\n",
      "epoch [55/200], generator loss:0.6932\n",
      "epoch [55/200], discriminator loss:1.3865\n",
      "epoch [56/200], generator loss:0.6931\n",
      "epoch [56/200], discriminator loss:1.3863\n",
      "epoch [57/200], generator loss:0.6931\n",
      "epoch [57/200], discriminator loss:1.3863\n",
      "epoch [58/200], generator loss:0.6931\n",
      "epoch [58/200], discriminator loss:1.3863\n",
      "epoch [59/200], generator loss:0.6931\n",
      "epoch [59/200], discriminator loss:1.3863\n",
      "epoch [60/200], generator loss:0.6931\n",
      "epoch [60/200], discriminator loss:1.3863\n",
      "epoch [61/200], generator loss:0.6931\n",
      "epoch [61/200], discriminator loss:1.3863\n",
      "epoch [62/200], generator loss:0.6931\n",
      "epoch [62/200], discriminator loss:1.3863\n",
      "epoch [63/200], generator loss:0.6931\n",
      "epoch [63/200], discriminator loss:1.3863\n",
      "epoch [64/200], generator loss:0.6931\n",
      "epoch [64/200], discriminator loss:1.3863\n",
      "epoch [65/200], generator loss:0.6931\n",
      "epoch [65/200], discriminator loss:1.3863\n",
      "epoch [66/200], generator loss:0.6931\n",
      "epoch [66/200], discriminator loss:1.3863\n",
      "epoch [67/200], generator loss:0.6931\n",
      "epoch [67/200], discriminator loss:1.3863\n",
      "epoch [68/200], generator loss:0.6931\n",
      "epoch [68/200], discriminator loss:1.3863\n",
      "epoch [69/200], generator loss:0.6931\n",
      "epoch [69/200], discriminator loss:1.3863\n",
      "epoch [70/200], generator loss:0.6931\n",
      "epoch [70/200], discriminator loss:1.3863\n",
      "epoch [71/200], generator loss:0.6931\n",
      "epoch [71/200], discriminator loss:1.3863\n",
      "epoch [72/200], generator loss:0.6931\n",
      "epoch [72/200], discriminator loss:1.3863\n",
      "epoch [73/200], generator loss:0.6931\n",
      "epoch [73/200], discriminator loss:1.3863\n",
      "epoch [74/200], generator loss:0.6931\n",
      "epoch [74/200], discriminator loss:1.3863\n",
      "epoch [75/200], generator loss:0.6931\n",
      "epoch [75/200], discriminator loss:1.3863\n",
      "epoch [76/200], generator loss:0.6931\n",
      "epoch [76/200], discriminator loss:1.3863\n",
      "epoch [77/200], generator loss:0.6931\n",
      "epoch [77/200], discriminator loss:1.3863\n",
      "epoch [78/200], generator loss:0.6931\n",
      "epoch [78/200], discriminator loss:1.3863\n",
      "epoch [79/200], generator loss:0.6931\n",
      "epoch [79/200], discriminator loss:1.3863\n",
      "epoch [80/200], generator loss:0.6931\n",
      "epoch [80/200], discriminator loss:1.3863\n",
      "epoch [81/200], generator loss:0.6931\n",
      "epoch [81/200], discriminator loss:1.3863\n",
      "epoch [82/200], generator loss:0.6931\n",
      "epoch [82/200], discriminator loss:1.3863\n",
      "epoch [83/200], generator loss:0.6931\n",
      "epoch [83/200], discriminator loss:1.3863\n",
      "epoch [84/200], generator loss:0.6932\n",
      "epoch [84/200], discriminator loss:1.3864\n",
      "epoch [85/200], generator loss:0.6931\n",
      "epoch [85/200], discriminator loss:1.3863\n",
      "epoch [86/200], generator loss:0.6931\n",
      "epoch [86/200], discriminator loss:1.3863\n",
      "epoch [87/200], generator loss:0.6931\n",
      "epoch [87/200], discriminator loss:1.3863\n",
      "epoch [88/200], generator loss:0.6931\n",
      "epoch [88/200], discriminator loss:1.3863\n",
      "epoch [89/200], generator loss:0.6931\n",
      "epoch [89/200], discriminator loss:1.3863\n",
      "epoch [90/200], generator loss:0.6931\n",
      "epoch [90/200], discriminator loss:1.3863\n",
      "epoch [91/200], generator loss:0.6931\n",
      "epoch [91/200], discriminator loss:1.3863\n",
      "epoch [92/200], generator loss:0.6931\n",
      "epoch [92/200], discriminator loss:1.3863\n",
      "epoch [93/200], generator loss:0.6931\n",
      "epoch [93/200], discriminator loss:1.3863\n",
      "epoch [94/200], generator loss:0.6931\n",
      "epoch [94/200], discriminator loss:1.3863\n",
      "epoch [95/200], generator loss:0.6931\n",
      "epoch [95/200], discriminator loss:1.3863\n",
      "epoch [96/200], generator loss:0.6931\n",
      "epoch [96/200], discriminator loss:1.3863\n",
      "epoch [97/200], generator loss:0.6931\n",
      "epoch [97/200], discriminator loss:1.3863\n",
      "epoch [98/200], generator loss:0.6931\n",
      "epoch [98/200], discriminator loss:1.3863\n",
      "epoch [99/200], generator loss:0.6931\n",
      "epoch [99/200], discriminator loss:1.3863\n",
      "epoch [100/200], generator loss:0.6931\n",
      "epoch [100/200], discriminator loss:1.3863\n",
      "epoch [101/200], generator loss:0.6931\n",
      "epoch [101/200], discriminator loss:1.3863\n",
      "epoch [102/200], generator loss:0.6931\n",
      "epoch [102/200], discriminator loss:1.3863\n",
      "epoch [103/200], generator loss:0.6931\n",
      "epoch [103/200], discriminator loss:1.3863\n"
     ]
    },
    {
     "name": "stdout",
     "output_type": "stream",
     "text": [
      "epoch [104/200], generator loss:0.6931\n",
      "epoch [104/200], discriminator loss:1.3863\n",
      "epoch [105/200], generator loss:0.6931\n",
      "epoch [105/200], discriminator loss:1.3863\n",
      "epoch [106/200], generator loss:0.6931\n",
      "epoch [106/200], discriminator loss:1.3863\n",
      "epoch [107/200], generator loss:0.6931\n",
      "epoch [107/200], discriminator loss:1.3863\n",
      "epoch [108/200], generator loss:0.6931\n",
      "epoch [108/200], discriminator loss:1.3863\n",
      "epoch [109/200], generator loss:0.6931\n",
      "epoch [109/200], discriminator loss:1.3863\n",
      "epoch [110/200], generator loss:0.6931\n",
      "epoch [110/200], discriminator loss:1.3863\n",
      "epoch [111/200], generator loss:0.6931\n",
      "epoch [111/200], discriminator loss:1.3863\n",
      "epoch [112/200], generator loss:0.6932\n",
      "epoch [112/200], discriminator loss:1.3864\n",
      "epoch [113/200], generator loss:0.6931\n",
      "epoch [113/200], discriminator loss:1.3863\n",
      "epoch [114/200], generator loss:0.6931\n",
      "epoch [114/200], discriminator loss:1.3863\n",
      "epoch [115/200], generator loss:0.6931\n",
      "epoch [115/200], discriminator loss:1.3863\n",
      "epoch [116/200], generator loss:0.6931\n",
      "epoch [116/200], discriminator loss:1.3863\n",
      "epoch [117/200], generator loss:0.6931\n",
      "epoch [117/200], discriminator loss:1.3863\n",
      "epoch [118/200], generator loss:0.6931\n",
      "epoch [118/200], discriminator loss:1.3863\n",
      "epoch [119/200], generator loss:0.6931\n",
      "epoch [119/200], discriminator loss:1.3863\n",
      "epoch [120/200], generator loss:0.6931\n",
      "epoch [120/200], discriminator loss:1.3863\n",
      "epoch [121/200], generator loss:0.6931\n",
      "epoch [121/200], discriminator loss:1.3863\n",
      "epoch [122/200], generator loss:0.6931\n",
      "epoch [122/200], discriminator loss:1.3863\n",
      "epoch [123/200], generator loss:0.6931\n",
      "epoch [123/200], discriminator loss:1.3863\n",
      "epoch [124/200], generator loss:0.6931\n",
      "epoch [124/200], discriminator loss:1.3863\n",
      "epoch [125/200], generator loss:0.6931\n",
      "epoch [125/200], discriminator loss:1.3863\n",
      "epoch [126/200], generator loss:0.6931\n",
      "epoch [126/200], discriminator loss:1.3863\n",
      "epoch [127/200], generator loss:0.6931\n",
      "epoch [127/200], discriminator loss:1.3863\n",
      "epoch [128/200], generator loss:0.6931\n",
      "epoch [128/200], discriminator loss:1.3863\n",
      "epoch [129/200], generator loss:0.6931\n",
      "epoch [129/200], discriminator loss:1.3863\n",
      "epoch [130/200], generator loss:0.6931\n",
      "epoch [130/200], discriminator loss:1.3863\n",
      "epoch [131/200], generator loss:0.6931\n",
      "epoch [131/200], discriminator loss:1.3863\n",
      "epoch [132/200], generator loss:0.6931\n",
      "epoch [132/200], discriminator loss:1.3863\n",
      "epoch [133/200], generator loss:0.6931\n",
      "epoch [133/200], discriminator loss:1.3863\n",
      "epoch [134/200], generator loss:0.6931\n",
      "epoch [134/200], discriminator loss:1.3863\n",
      "epoch [135/200], generator loss:0.6931\n",
      "epoch [135/200], discriminator loss:1.3863\n",
      "epoch [136/200], generator loss:0.6931\n",
      "epoch [136/200], discriminator loss:1.3863\n",
      "epoch [137/200], generator loss:0.6931\n",
      "epoch [137/200], discriminator loss:1.3863\n",
      "epoch [138/200], generator loss:0.6932\n",
      "epoch [138/200], discriminator loss:1.3864\n",
      "epoch [139/200], generator loss:0.6931\n",
      "epoch [139/200], discriminator loss:1.3863\n",
      "epoch [140/200], generator loss:0.6931\n",
      "epoch [140/200], discriminator loss:1.3863\n",
      "epoch [141/200], generator loss:0.6931\n",
      "epoch [141/200], discriminator loss:1.3863\n",
      "epoch [142/200], generator loss:0.6931\n",
      "epoch [142/200], discriminator loss:1.3863\n",
      "epoch [143/200], generator loss:0.6931\n",
      "epoch [143/200], discriminator loss:1.3863\n",
      "epoch [144/200], generator loss:0.6931\n",
      "epoch [144/200], discriminator loss:1.3863\n",
      "epoch [145/200], generator loss:0.6931\n",
      "epoch [145/200], discriminator loss:1.3863\n",
      "epoch [146/200], generator loss:0.6931\n",
      "epoch [146/200], discriminator loss:1.3863\n",
      "epoch [147/200], generator loss:0.6931\n",
      "epoch [147/200], discriminator loss:1.3863\n",
      "epoch [148/200], generator loss:0.6931\n",
      "epoch [148/200], discriminator loss:1.3863\n",
      "epoch [149/200], generator loss:0.6931\n",
      "epoch [149/200], discriminator loss:1.3863\n",
      "epoch [150/200], generator loss:0.6931\n",
      "epoch [150/200], discriminator loss:1.3863\n",
      "epoch [151/200], generator loss:0.6931\n",
      "epoch [151/200], discriminator loss:1.3863\n",
      "epoch [152/200], generator loss:0.6931\n",
      "epoch [152/200], discriminator loss:1.3863\n",
      "epoch [153/200], generator loss:0.6931\n",
      "epoch [153/200], discriminator loss:1.3863\n",
      "epoch [154/200], generator loss:0.6931\n",
      "epoch [154/200], discriminator loss:1.3863\n",
      "epoch [155/200], generator loss:0.6931\n",
      "epoch [155/200], discriminator loss:1.3863\n",
      "epoch [156/200], generator loss:0.6931\n",
      "epoch [156/200], discriminator loss:1.3863\n",
      "epoch [157/200], generator loss:0.6931\n",
      "epoch [157/200], discriminator loss:1.3863\n",
      "epoch [158/200], generator loss:0.6931\n",
      "epoch [158/200], discriminator loss:1.3863\n",
      "epoch [159/200], generator loss:0.6931\n",
      "epoch [159/200], discriminator loss:1.3863\n",
      "epoch [160/200], generator loss:0.6931\n",
      "epoch [160/200], discriminator loss:1.3863\n",
      "epoch [161/200], generator loss:0.6931\n",
      "epoch [161/200], discriminator loss:1.3863\n",
      "epoch [162/200], generator loss:0.6931\n",
      "epoch [162/200], discriminator loss:1.3863\n",
      "epoch [163/200], generator loss:0.6931\n",
      "epoch [163/200], discriminator loss:1.3863\n",
      "epoch [164/200], generator loss:0.6931\n",
      "epoch [164/200], discriminator loss:1.3863\n",
      "epoch [165/200], generator loss:0.6933\n",
      "epoch [165/200], discriminator loss:1.3865\n",
      "epoch [166/200], generator loss:0.6932\n",
      "epoch [166/200], discriminator loss:1.3863\n",
      "epoch [167/200], generator loss:0.6931\n",
      "epoch [167/200], discriminator loss:1.3863\n",
      "epoch [168/200], generator loss:0.6931\n",
      "epoch [168/200], discriminator loss:1.3863\n",
      "epoch [169/200], generator loss:0.6931\n",
      "epoch [169/200], discriminator loss:1.3863\n",
      "epoch [170/200], generator loss:0.6931\n",
      "epoch [170/200], discriminator loss:1.3863\n",
      "epoch [171/200], generator loss:0.6931\n",
      "epoch [171/200], discriminator loss:1.3863\n",
      "epoch [172/200], generator loss:0.6931\n",
      "epoch [172/200], discriminator loss:1.3863\n",
      "epoch [173/200], generator loss:0.6931\n",
      "epoch [173/200], discriminator loss:1.3863\n",
      "epoch [174/200], generator loss:0.6931\n",
      "epoch [174/200], discriminator loss:1.3863\n",
      "epoch [175/200], generator loss:0.6931\n",
      "epoch [175/200], discriminator loss:1.3863\n",
      "epoch [176/200], generator loss:0.6931\n",
      "epoch [176/200], discriminator loss:1.3863\n",
      "epoch [177/200], generator loss:0.6931\n",
      "epoch [177/200], discriminator loss:1.3863\n",
      "epoch [178/200], generator loss:0.6931\n",
      "epoch [178/200], discriminator loss:1.3863\n",
      "epoch [179/200], generator loss:0.6931\n",
      "epoch [179/200], discriminator loss:1.3863\n",
      "epoch [180/200], generator loss:0.6931\n",
      "epoch [180/200], discriminator loss:1.3863\n",
      "epoch [181/200], generator loss:0.6931\n",
      "epoch [181/200], discriminator loss:1.3863\n",
      "epoch [182/200], generator loss:0.6931\n",
      "epoch [182/200], discriminator loss:1.3863\n",
      "epoch [183/200], generator loss:0.6931\n",
      "epoch [183/200], discriminator loss:1.3863\n",
      "epoch [184/200], generator loss:0.6931\n",
      "epoch [184/200], discriminator loss:1.3863\n",
      "epoch [185/200], generator loss:0.6931\n",
      "epoch [185/200], discriminator loss:1.3863\n",
      "epoch [186/200], generator loss:0.6931\n",
      "epoch [186/200], discriminator loss:1.3863\n",
      "epoch [187/200], generator loss:0.6931\n",
      "epoch [187/200], discriminator loss:1.3863\n",
      "epoch [188/200], generator loss:0.6931\n",
      "epoch [188/200], discriminator loss:1.3863\n",
      "epoch [189/200], generator loss:0.6931\n",
      "epoch [189/200], discriminator loss:1.3863\n",
      "epoch [190/200], generator loss:0.6931\n",
      "epoch [190/200], discriminator loss:1.3863\n",
      "epoch [191/200], generator loss:0.6931\n",
      "epoch [191/200], discriminator loss:1.3863\n",
      "epoch [192/200], generator loss:0.6931\n",
      "epoch [192/200], discriminator loss:1.3863\n",
      "epoch [193/200], generator loss:0.6931\n",
      "epoch [193/200], discriminator loss:1.3863\n",
      "epoch [194/200], generator loss:0.6931\n",
      "epoch [194/200], discriminator loss:1.3863\n",
      "epoch [195/200], generator loss:0.6931\n",
      "epoch [195/200], discriminator loss:1.3863\n",
      "epoch [196/200], generator loss:0.6932\n",
      "epoch [196/200], discriminator loss:1.3864\n",
      "epoch [197/200], generator loss:0.6931\n",
      "epoch [197/200], discriminator loss:1.3863\n",
      "epoch [198/200], generator loss:0.6931\n",
      "epoch [198/200], discriminator loss:1.3863\n",
      "epoch [199/200], generator loss:0.6931\n",
      "epoch [199/200], discriminator loss:1.3863\n",
      "epoch [200/200], generator loss:0.6931\n",
      "epoch [200/200], discriminator loss:1.3863\n"
     ]
    }
   ],
   "source": [
    "g_losses = []\n",
    "d_losses = []\n",
    "generator.train()\n",
    "discriminator.train()\n",
    "num_epochs = 200 \n",
    "fixed_noise = generate_noise(batch_size, noise_dim)\n",
    "\n",
    "for epoch in range(num_epochs):\n",
    "    g_loss_epoch = 0\n",
    "    d_loss_epoch = 0 \n",
    "    for batch_idx, data in enumerate(train_loader):\n",
    "        \n",
    "        \"\"\"\n",
    "        TODO: Define here your training strategy\n",
    "        \"\"\"\n",
    "        img, _ = data\n",
    "        # 1) sample some real data, 2) assign a 1 as ground truth\n",
    "        img = img.to(device)\n",
    "        valid = torch.ones(img.size(0), 1, requires_grad=False).to(device)\n",
    "        \n",
    "        # 1) sample noise as generator input, 2) generate a batch of images, 3) assing a 0 as ground truth\n",
    "        z = generate_noise(img.size(0), noise_dim).to(device)\n",
    "        gen_imgs = generator(z)\n",
    "        fake = torch.zeros(img.size(0), 1, requires_grad=False).to(device)\n",
    "        \n",
    "        ######Train Discriminator########\n",
    "        optimizer_D.zero_grad()\n",
    "        \n",
    "        # Measure discriminator's ability to classify real from generated samples\n",
    "        real_loss = loss_function(discriminator(img), valid)\n",
    "        fake_loss = loss_function(discriminator(gen_imgs.detach()), fake)\n",
    "        d_loss = real_loss + fake_loss\n",
    "        \n",
    "        d_loss.backward()\n",
    "        d_loss_epoch += d_loss.item()\n",
    "        optimizer_D.step()\n",
    "        \n",
    "        ######Train Generator###########\n",
    "        optimizer_G.zero_grad()\n",
    "        \n",
    "        # Loss measures generator's ability to fool the discriminator\n",
    "        g_loss = loss_function(discriminator(gen_imgs), valid)\n",
    "        g_loss_epoch += g_loss.item()\n",
    "        optimizer_G.step()\n",
    "\n",
    "\n",
    "    print('epoch [{}/{}], generator loss:{:.4f}'\n",
    "          .format(epoch + 1, num_epochs, g_loss_epoch / len(train_loader)))\n",
    "    g_losses.append(g_loss_epoch/ len(train_loader))\n",
    "    print('epoch [{}/{}], discriminator loss:{:.4f}'\n",
    "          .format(epoch + 1, num_epochs, d_loss_epoch / len(train_loader)))\n",
    "    d_losses.append(d_loss_epoch/ len(train_loader))\n",
    "    if epoch % sample_interval == 0:\n",
    "        save_image(denorm(generator(fixed_noise.to(device))).cpu(), './GAN/samples_epoch_{}.png'.format(epoch),nrow = 8)\n",
    "    torch.save(generator.state_dict(), './GAN/generator.pth')\n",
    "    torch.save(discriminator.state_dict(), './GAN/discriminator.pth')\n",
    "    \n",
    "np.save('./GAN/generator_losses.npy', np.array(g_losses))\n",
    "np.save('./GAN/discriminator_losses.npy', np.array(d_losses))"
   ]
  },
  {
   "cell_type": "markdown",
   "metadata": {},
   "source": [
    "### Loss curves"
   ]
  },
  {
   "cell_type": "code",
   "execution_count": 160,
   "metadata": {},
   "outputs": [
    {
     "data": {
      "image/png": "[encoded data removed]",
      "text/plain": [
       "<Figure size 432x288 with 1 Axes>"
      ]
     },
     "metadata": {
      "needs_background": "light"
     },
     "output_type": "display_data"
    },
    {
     "data": {
      "image/png": "[encoded data removed]",
      "text/plain": [
       "<Figure size 432x288 with 1 Axes>"
      ]
     },
     "metadata": {
      "needs_background": "light"
     },
     "output_type": "display_data"
    }
   ],
   "source": [
    "import matplotlib.pyplot as plt\n",
    "generator_losses = np.load('./GAN/generator_losses.npy')\n",
    "plt.plot(list(range(0,generator_losses.shape[0])), generator_losses)\n",
    "plt.title('Generator Loss')\n",
    "plt.show()\n",
    "\n",
    "import matplotlib.pyplot as plt\n",
    "discriminator_losses = np.load('./GAN/discriminator_losses.npy')\n",
    "plt.plot(list(range(0,discriminator_losses.shape[0])), discriminator_losses)\n",
    "plt.title('Discriminator Loss')\n",
    "plt.show()"
   ]
  },
  {
   "cell_type": "markdown",
   "metadata": {},
   "source": [
    "### Sampling"
   ]
  },
  {
   "cell_type": "code",
   "execution_count": 167,
   "metadata": {},
   "outputs": [],
   "source": [
    "generator.load_state_dict(torch.load(\"./GAN/generator.pth\"))\n",
    "\n",
    "\"\"\"\n",
    "TODO: Sample from the noise distribution\n",
    "\"\"\"\n",
    "\"\"\"\n",
    "TODO: Do a linear interpolation in the latent space between two noise vectors and generate all the intermediate samples\n",
    "\"\"\"\n",
    "generator.eval()\n",
    "n_samples = 32\n",
    "with torch.no_grad():\n",
    "    z = generate_noise(n_samples*n_samples, noise_dim).to(device)\n",
    "    samples = generator(z)\n",
    "    save_image(denorm(samples).type(torch.FloatTensor).cpu(), './GAN/samples'+'.png', nrow = n_samples)\n",
    "    \n",
    "\n"
   ]
  },
  {
   "cell_type": "markdown",
   "metadata": {},
   "source": [
    "## Conditional GAN"
   ]
  },
  {
   "cell_type": "markdown",
   "metadata": {},
   "source": [
    "The concept of conditional GAN: \n",
    "\n",
    "* $\\mathbf{x}$ refers to a train datum\n",
    "* $\\mathbf{y}$ refers to the corresponding label\n",
    "* $\\mathbf{z}$ refers to random noise vector\n",
    "<img src=\"./imgs/cGAN.png\" width=\"500\" />"
   ]
  },
  {
   "cell_type": "markdown",
   "metadata": {},
   "source": [
    "### Hyper-parameter selection"
   ]
  },
  {
   "cell_type": "code",
   "execution_count": 207,
   "metadata": {},
   "outputs": [],
   "source": [
    "\"\"\"\n",
    "TODO: Define here your hyperparameters\n",
    "\"\"\"\n",
    "\n",
    "num_epochs = None\n",
    "batch_size = None\n",
    "learning_rate = None\n",
    "\n",
    "num_workers = 16\n",
    "num_classes = 10\n",
    "sample_interval = 5\n",
    "\n",
    "############define hyperparameters##################\n",
    "num_epochs = 20\n",
    "batch_size = 128\n",
    "\n",
    "learning_rate = 2e-4\n",
    "beta_1 = 0.5\n",
    "beta_2 = 0.999\n",
    "latent_dim = 128"
   ]
  },
  {
   "cell_type": "markdown",
   "metadata": {},
   "source": [
    "### Define the dataloaders"
   ]
  },
  {
   "cell_type": "code",
   "execution_count": 208,
   "metadata": {},
   "outputs": [],
   "source": [
    "train_loader = DataLoader(train_dat, batch_size, shuffle=True, num_workers=num_workers)\n",
    "test_loader = DataLoader(test_dat, batch_size, shuffle=False, num_workers=num_workers)\n",
    "total_step = len(train_loader)\n",
    "\n",
    "it = iter(test_loader)\n",
    "sample_inputs, _ = next(it)\n",
    "\n",
    "in_dim = sample_inputs.shape[-1] * sample_inputs.shape[-2]"
   ]
  },
  {
   "cell_type": "markdown",
   "metadata": {},
   "source": [
    "### Define the Generator and the Discriminator"
   ]
  },
  {
   "cell_type": "code",
   "execution_count": 225,
   "metadata": {},
   "outputs": [],
   "source": [
    "class Generator(torch.nn.Module):\n",
    "\n",
    "    def __init__(self, latent_dim = 128, image_size=784):\n",
    "        super(Generator, self).__init__()\n",
    "        \"\"\"\n",
    "        TODO: Layer definitions for the Generator\n",
    "        \"\"\"\n",
    "        self.fc1_1 = nn.Linear(latent_dim, 256)  #account for the noise z\n",
    "        self.fc1_1_bn = nn.BatchNorm1d(256)\n",
    "        self.fc1_2 = nn.Linear(10, 256)   #account for the labels\n",
    "        self.fc1_2_bn = nn.BatchNorm1d(256)\n",
    "        self.fc2 = nn.Linear(512, 512)\n",
    "        self.fc2_bn = nn.BatchNorm1d(512)\n",
    "        self.fc3 = nn.Linear(512, 1024)\n",
    "        self.fc3_bn = nn.BatchNorm1d(1024)\n",
    "        self.fc4 = nn.Linear(1024, image_size)\n",
    "        \n",
    "    def forward(self, noise, labels):\n",
    "    \n",
    "        \"\"\"\n",
    "        TODO: Generator pipeline. Your output should have the same dimensions as the real images\n",
    "        \"\"\"\n",
    "        x = F.relu(self.fc1_1_bn(self.fc1_1(noise)))\n",
    "        y = F.relu(self.fc1_2_bn(self.fc1_2(labels)))\n",
    "        z = torch.cat([x, y], 1)\n",
    "        z = F.relu(self.fc2_bn(self.fc2(z)))\n",
    "        z = F.relu(self.fc3_bn(self.fc3(z)))\n",
    "        z = torch.tanh(self.fc4(z))\n",
    "        \n",
    "        return z\n",
    "    \n",
    "    \n",
    "    \n",
    "    \n",
    "    \n",
    "class Discriminator(torch.nn.Module):\n",
    "\n",
    "    def __init__(self, image_size = 784):\n",
    "        super(Discriminator, self).__init__()\n",
    "        \"\"\"\n",
    "        TODO: Layer definitions for the Discriminator\n",
    "        \"\"\"\n",
    "        self.fc1_1 = nn.Linear(image_size, 1024)\n",
    "        self.fc1_2 = nn.Linear(10, 1024)\n",
    "        self.fc2 = nn.Linear(2048, 512)\n",
    "        self.fc2_bn = nn.BatchNorm1d(512)\n",
    "        self.fc3 = nn.Linear(512, 256)\n",
    "        self.fc3_bn = nn.BatchNorm1d(256)\n",
    "        self.fc4 = nn.Linear(256,1)\n",
    "        \n",
    "\n",
    "    def forward(self, images, labels):\n",
    "        \"\"\"\n",
    "        TODO: Discriminator pipeline. Your output should have only one dimension.\n",
    "        \"\"\"\n",
    "        x = F.leaky_relu(self.fc1_1(images), 0.2)\n",
    "        y = F.leaky_relu(self.fc1_2(labels), 0.2)\n",
    "        z = torch.cat([x,y], 1)\n",
    "        z = F.leaky_relu(self.fc2_bn(self.fc2(z)), 0.2)\n",
    "        z = F.leaky_relu(self.fc3_bn(self.fc3(z)), 0.2)\n",
    "        z = torch.sigmoid(self.fc4(z))\n",
    "            \n",
    "        return z\n"
   ]
  },
  {
   "cell_type": "code",
   "execution_count": 226,
   "metadata": {},
   "outputs": [],
   "source": [
    "generator = Generator(latent_dim, in_dim)\n",
    "discriminator = Discriminator(in_dim)"
   ]
  },
  {
   "cell_type": "markdown",
   "metadata": {},
   "source": [
    "### Define loss function"
   ]
  },
  {
   "cell_type": "code",
   "execution_count": 227,
   "metadata": {},
   "outputs": [],
   "source": [
    "criterion = nn.BCELoss(reduction='mean')\n",
    "def loss_function(out, label):\n",
    "    loss = criterion(out, label)\n",
    "    return loss"
   ]
  },
  {
   "cell_type": "markdown",
   "metadata": {},
   "source": [
    "### Initialize Model and print number of parameters for both G and D"
   ]
  },
  {
   "cell_type": "code",
   "execution_count": 228,
   "metadata": {},
   "outputs": [
    {
     "name": "stdout",
     "output_type": "stream",
     "text": [
      "The number of parameters for G is: 1631504\n",
      "The number of parameters for D is: 1997313\n",
      "The total number of parameters is: 3628817\n"
     ]
    }
   ],
   "source": [
    "generator = generator.to(device)\n",
    "discriminator = discriminator.to(device)\n",
    "g_params = sum(p.numel() for p in generator.parameters() if p.requires_grad)\n",
    "d_params = sum(p.numel() for p in discriminator.parameters() if p.requires_grad)\n",
    "print(\"The number of parameters for G is: {}\".format(g_params))\n",
    "print(\"The number of parameters for D is: {}\".format(d_params))\n",
    "print(\"The total number of parameters is: {}\".format(g_params + d_params))"
   ]
  },
  {
   "cell_type": "markdown",
   "metadata": {},
   "source": [
    "### Choose and initialize optimizer"
   ]
  },
  {
   "cell_type": "code",
   "execution_count": 229,
   "metadata": {},
   "outputs": [],
   "source": [
    "g_optimizer = torch.optim.Adam(generator.parameters(), lr=learning_rate, betas=(beta_1, beta_2))\n",
    "d_optimizer = torch.optim.Adam(discriminator.parameters(), lr=learning_rate, betas = (beta_1, beta_2))"
   ]
  },
  {
   "cell_type": "markdown",
   "metadata": {},
   "source": [
    "### Train"
   ]
  },
  {
   "cell_type": "code",
   "execution_count": 234,
   "metadata": {
    "scrolled": false
   },
   "outputs": [
    {
     "name": "stdout",
     "output_type": "stream",
     "text": [
      "epoch [1/20], generator loss:0.9733\n",
      "epoch [1/20], discriminator loss:1.0443\n",
      "epoch [2/20], generator loss:1.3331\n",
      "epoch [2/20], discriminator loss:0.8345\n",
      "epoch [3/20], generator loss:1.4762\n",
      "epoch [3/20], discriminator loss:0.8025\n",
      "epoch [4/20], generator loss:1.5759\n",
      "epoch [4/20], discriminator loss:0.7596\n",
      "epoch [5/20], generator loss:1.6911\n",
      "epoch [5/20], discriminator loss:0.7175\n",
      "epoch [6/20], generator loss:1.7900\n",
      "epoch [6/20], discriminator loss:0.6777\n",
      "epoch [7/20], generator loss:1.7235\n",
      "epoch [7/20], discriminator loss:0.7236\n",
      "epoch [8/20], generator loss:1.7360\n",
      "epoch [8/20], discriminator loss:0.7345\n",
      "epoch [9/20], generator loss:1.7458\n",
      "epoch [9/20], discriminator loss:0.7276\n",
      "epoch [10/20], generator loss:1.7836\n",
      "epoch [10/20], discriminator loss:0.7193\n",
      "epoch [11/20], generator loss:1.7543\n",
      "epoch [11/20], discriminator loss:0.7365\n",
      "epoch [12/20], generator loss:1.6841\n",
      "epoch [12/20], discriminator loss:0.7856\n",
      "epoch [13/20], generator loss:1.6706\n",
      "epoch [13/20], discriminator loss:0.7920\n",
      "epoch [14/20], generator loss:1.8030\n",
      "epoch [14/20], discriminator loss:0.7268\n",
      "epoch [15/20], generator loss:1.7374\n",
      "epoch [15/20], discriminator loss:0.7733\n",
      "epoch [16/20], generator loss:1.6859\n",
      "epoch [16/20], discriminator loss:0.8116\n",
      "epoch [17/20], generator loss:1.5866\n",
      "epoch [17/20], discriminator loss:0.8537\n",
      "epoch [18/20], generator loss:1.5971\n",
      "epoch [18/20], discriminator loss:0.8452\n",
      "epoch [19/20], generator loss:1.6295\n",
      "epoch [19/20], discriminator loss:0.8159\n",
      "epoch [20/20], generator loss:1.5838\n",
      "epoch [20/20], discriminator loss:0.8622\n"
     ]
    }
   ],
   "source": [
    "generator.train()\n",
    "discriminator.train()\n",
    "g_losses = []\n",
    "d_losses = []\n",
    "\n",
    "fixed_noise = torch.rand(num_classes, latent_dim).to(device)\n",
    "fixed_labels = np.arange(num_classes)\n",
    "fixed_labels = (torch.from_numpy(fixed_labels)).type(torch.LongTensor)\n",
    "fixed_labels = fixed_labels.to(device)\n",
    "fixed_labels_one_hot = torch.zeros(num_classes, num_classes).to(device)\n",
    "fixed_labels_one_hot.scatter_(1, fixed_labels.view(num_classes, 1), 1)\n",
    "\n",
    "for epoch in range(num_epochs):\n",
    "    g_loss_epoch = 0\n",
    "    d_loss_epoch = 0\n",
    "    \n",
    "    for batch_idx, (images, labels) in enumerate(train_loader):\n",
    "        batch_size = images.size(0)\n",
    "\n",
    "        \"\"\"\n",
    "        TODO: Define here your training strategy\n",
    "        \"\"\"\n",
    "        # train Discriminator\n",
    "        images = images.view(batch_size, -1).to(device)\n",
    "        \n",
    "        real_labels = torch.ones(batch_size).to(device)\n",
    "        fake_labels = torch.zeros(batch_size).to(device)\n",
    "        \n",
    "        labels_one_hot = torch.zeros(batch_size, 10)\n",
    "        labels_one_hot.scatter_(1, labels.view(batch_size, 1).type(torch.LongTensor), 1)\n",
    "        labels_one_hot = labels_one_hot.to(device)\n",
    "        \n",
    "\n",
    "        outputs = discriminator(images, labels_one_hot).squeeze()\n",
    "        d_loss_real = loss_function(outputs, real_labels)\n",
    "        \n",
    "        z = torch.rand(batch_size, latent_dim).to(device)\n",
    "        z_labels = (torch.rand(batch_size, 1)*num_classes).type(torch.LongTensor)\n",
    "        z_labels = z_labels.to(device)\n",
    "        z_labels_one_hot = torch.zeros(batch_size, 10).to(device)\n",
    "        z_labels_one_hot.scatter_(1, z_labels.view(batch_size, 1), 1)\n",
    "        \n",
    "        fake_images = generator(z, z_labels_one_hot)\n",
    "        outputs = discriminator(fake_images, z_labels_one_hot).squeeze()\n",
    "        d_loss_fake = loss_function(outputs, fake_labels)\n",
    "        \n",
    "        d_loss = d_loss_real + d_loss_fake\n",
    "        d_optimizer.zero_grad()\n",
    "        d_loss.backward()\n",
    "        d_optimizer.step()\n",
    "        \n",
    "        \n",
    "        d_loss_epoch += d_loss.item()\n",
    "        \n",
    "        #train Generator\n",
    "        z = torch.rand(batch_size, latent_dim).to(device)\n",
    "        z_lables = (torch.rand(batch_size, 1)*10).type(torch.LongTensor)\n",
    "        z_labels = z_labels.to(device)\n",
    "        z_labels_one_hot = torch.zeros(batch_size, 10).to(device)\n",
    "        z_labels_one_hot.scatter_(1, z_labels.view(batch_size, 1), 1)\n",
    "        \n",
    "        fake_images = generator(z, z_labels_one_hot)\n",
    "        outputs = discriminator(fake_images, z_labels_one_hot).squeeze()\n",
    "        \n",
    "        g_loss = criterion(outputs, real_labels)\n",
    "        g_optimizer.zero_grad()\n",
    "        g_loss.backward()\n",
    "        g_optimizer.step()\n",
    "        \n",
    "        g_loss_epoch += g_loss.item()\n",
    "        \n",
    "    print('epoch [{}/{}], generator loss:{:.4f}'\n",
    "          .format(epoch + 1, num_epochs, g_loss_epoch / len(train_loader)))\n",
    "    g_losses.append(g_loss_epoch/ len(train_loader))\n",
    "    print('epoch [{}/{}], discriminator loss:{:.4f}'\n",
    "          .format(epoch + 1, num_epochs, d_loss_epoch / len(train_loader)))\n",
    "    d_losses.append(d_loss_epoch/ len(train_loader))\n",
    "    if epoch % sample_interval == 0:\n",
    "        fake_fixed_images = generator(fixed_noise, fixed_labels_one_hot)\n",
    "        fake_fixed_images = denorm(fake_fixed_images)\n",
    "        save_image(fake_fixed_images.cpu(), './cGAN/samples_epoch_{}.png'.format(epoch),nrow = 8)\n",
    "    torch.save(generator.state_dict(), './cGAN/generator.pth')\n",
    "    torch.save(discriminator.state_dict(), './cGAN/discriminator.pth')\n",
    "    \n",
    "np.save('./cGAN/generator_losses.npy', np.array(g_losses))\n",
    "np.save('./cGAN/discriminator_losses.npy', np.array(d_losses))"
   ]
  },
  {
   "cell_type": "markdown",
   "metadata": {},
   "source": [
    "### Loss curves"
   ]
  },
  {
   "cell_type": "code",
   "execution_count": 235,
   "metadata": {},
   "outputs": [
    {
     "data": {
      "image/png": "[encoded data removed]",
      "text/plain": [
       "<Figure size 432x288 with 1 Axes>"
      ]
     },
     "metadata": {
      "needs_background": "light"
     },
     "output_type": "display_data"
    },
    {
     "data": {
      "image/png": "[encoded data removed]",
      "text/plain": [
       "<Figure size 432x288 with 1 Axes>"
      ]
     },
     "metadata": {
      "needs_background": "light"
     },
     "output_type": "display_data"
    }
   ],
   "source": [
    "import matplotlib.pyplot as plt\n",
    "generator_losses = np.load('./cGAN/generator_losses.npy')\n",
    "plt.plot(list(range(0,generator_losses.shape[0])), generator_losses)\n",
    "plt.title('Generator Loss')\n",
    "plt.show()\n",
    "\n",
    "import matplotlib.pyplot as plt\n",
    "discriminator_losses = np.load('./cGAN/discriminator_losses.npy')\n",
    "plt.plot(list(range(0,discriminator_losses.shape[0])), discriminator_losses)\n",
    "plt.title('Discriminator Loss')\n",
    "plt.show()"
   ]
  },
  {
   "cell_type": "markdown",
   "metadata": {},
   "source": [
    "### Sampling"
   ]
  },
  {
   "cell_type": "code",
   "execution_count": 236,
   "metadata": {},
   "outputs": [
    {
     "ename": "TypeError",
     "evalue": "forward() missing 1 required positional argument: 'labels'",
     "output_type": "error",
     "traceback": [
      "\u001b[0;31m---------------------------------------------------------------------------\u001b[0m",
      "\u001b[0;31mTypeError\u001b[0m                                 Traceback (most recent call last)",
      "\u001b[0;32m<ipython-input-236-d8aa0c03c145>\u001b[0m in \u001b[0;36m<module>\u001b[0;34m\u001b[0m\n\u001b[1;32m      8\u001b[0m \u001b[0;32mwith\u001b[0m \u001b[0mtorch\u001b[0m\u001b[0;34m.\u001b[0m\u001b[0mno_grad\u001b[0m\u001b[0;34m(\u001b[0m\u001b[0;34m)\u001b[0m\u001b[0;34m:\u001b[0m\u001b[0;34m\u001b[0m\u001b[0;34m\u001b[0m\u001b[0m\n\u001b[1;32m      9\u001b[0m     \u001b[0mz\u001b[0m \u001b[0;34m=\u001b[0m \u001b[0mgenerate_noise\u001b[0m\u001b[0;34m(\u001b[0m\u001b[0mn_samples\u001b[0m\u001b[0;34m*\u001b[0m\u001b[0mn_samples\u001b[0m\u001b[0;34m,\u001b[0m \u001b[0mnoise_dim\u001b[0m\u001b[0;34m)\u001b[0m\u001b[0;34m.\u001b[0m\u001b[0mto\u001b[0m\u001b[0;34m(\u001b[0m\u001b[0mdevice\u001b[0m\u001b[0;34m)\u001b[0m\u001b[0;34m\u001b[0m\u001b[0;34m\u001b[0m\u001b[0m\n\u001b[0;32m---> 10\u001b[0;31m     \u001b[0msamples\u001b[0m \u001b[0;34m=\u001b[0m \u001b[0mgenerator\u001b[0m\u001b[0;34m(\u001b[0m\u001b[0mz\u001b[0m\u001b[0;34m)\u001b[0m\u001b[0;34m\u001b[0m\u001b[0;34m\u001b[0m\u001b[0m\n\u001b[0m\u001b[1;32m     11\u001b[0m     \u001b[0msave_image\u001b[0m\u001b[0;34m(\u001b[0m\u001b[0mdenorm\u001b[0m\u001b[0;34m(\u001b[0m\u001b[0msamples\u001b[0m\u001b[0;34m)\u001b[0m\u001b[0;34m.\u001b[0m\u001b[0mtype\u001b[0m\u001b[0;34m(\u001b[0m\u001b[0mtorch\u001b[0m\u001b[0;34m.\u001b[0m\u001b[0mFloatTensor\u001b[0m\u001b[0;34m)\u001b[0m\u001b[0;34m.\u001b[0m\u001b[0mcpu\u001b[0m\u001b[0;34m(\u001b[0m\u001b[0;34m)\u001b[0m\u001b[0;34m,\u001b[0m \u001b[0;34m'./cGan/samples'\u001b[0m \u001b[0;34m+\u001b[0m \u001b[0;34m'.png'\u001b[0m\u001b[0;34m,\u001b[0m \u001b[0mnrow\u001b[0m \u001b[0;34m=\u001b[0m \u001b[0mn_samples\u001b[0m\u001b[0;34m)\u001b[0m\u001b[0;34m\u001b[0m\u001b[0;34m\u001b[0m\u001b[0m\n",
      "\u001b[0;32m/vol/bitbucket/nuric/pypi/lib/python3.6/site-packages/torch/nn/modules/module.py\u001b[0m in \u001b[0;36m__call__\u001b[0;34m(self, *input, **kwargs)\u001b[0m\n\u001b[1;32m    487\u001b[0m             \u001b[0mresult\u001b[0m \u001b[0;34m=\u001b[0m \u001b[0mself\u001b[0m\u001b[0;34m.\u001b[0m\u001b[0m_slow_forward\u001b[0m\u001b[0;34m(\u001b[0m\u001b[0;34m*\u001b[0m\u001b[0minput\u001b[0m\u001b[0;34m,\u001b[0m \u001b[0;34m**\u001b[0m\u001b[0mkwargs\u001b[0m\u001b[0;34m)\u001b[0m\u001b[0;34m\u001b[0m\u001b[0;34m\u001b[0m\u001b[0m\n\u001b[1;32m    488\u001b[0m         \u001b[0;32melse\u001b[0m\u001b[0;34m:\u001b[0m\u001b[0;34m\u001b[0m\u001b[0;34m\u001b[0m\u001b[0m\n\u001b[0;32m--> 489\u001b[0;31m             \u001b[0mresult\u001b[0m \u001b[0;34m=\u001b[0m \u001b[0mself\u001b[0m\u001b[0;34m.\u001b[0m\u001b[0mforward\u001b[0m\u001b[0;34m(\u001b[0m\u001b[0;34m*\u001b[0m\u001b[0minput\u001b[0m\u001b[0;34m,\u001b[0m \u001b[0;34m**\u001b[0m\u001b[0mkwargs\u001b[0m\u001b[0;34m)\u001b[0m\u001b[0;34m\u001b[0m\u001b[0;34m\u001b[0m\u001b[0m\n\u001b[0m\u001b[1;32m    490\u001b[0m         \u001b[0;32mfor\u001b[0m \u001b[0mhook\u001b[0m \u001b[0;32min\u001b[0m \u001b[0mself\u001b[0m\u001b[0;34m.\u001b[0m\u001b[0m_forward_hooks\u001b[0m\u001b[0;34m.\u001b[0m\u001b[0mvalues\u001b[0m\u001b[0;34m(\u001b[0m\u001b[0;34m)\u001b[0m\u001b[0;34m:\u001b[0m\u001b[0;34m\u001b[0m\u001b[0;34m\u001b[0m\u001b[0m\n\u001b[1;32m    491\u001b[0m             \u001b[0mhook_result\u001b[0m \u001b[0;34m=\u001b[0m \u001b[0mhook\u001b[0m\u001b[0;34m(\u001b[0m\u001b[0mself\u001b[0m\u001b[0;34m,\u001b[0m \u001b[0minput\u001b[0m\u001b[0;34m,\u001b[0m \u001b[0mresult\u001b[0m\u001b[0;34m)\u001b[0m\u001b[0;34m\u001b[0m\u001b[0;34m\u001b[0m\u001b[0m\n",
      "\u001b[0;31mTypeError\u001b[0m: forward() missing 1 required positional argument: 'labels'"
     ]
    }
   ],
   "source": [
    "generator.load_state_dict(torch.load(\"./cGAN/generator.pth\"))\n",
    "\n",
    "\"\"\"\n",
    "TODO: Sample from the noise distribution\n",
    "\"\"\"\n",
    "generator.eval()\n",
    "n_samples = 32\n",
    "with torch.no_grad():\n",
    "    z = generate_noise(n_samples*n_samples, noise_dim).to(device)\n",
    "    samples = generator(z)\n",
    "    save_image(denorm(samples).type(torch.FloatTensor).cpu(), './cGan/samples' + '.png', nrow = n_samples)"
   ]
  },
  {
   "cell_type": "code",
   "execution_count": null,
   "metadata": {},
   "outputs": [],
   "source": []
  }
 ],
 "metadata": {
  "kernelspec": {
   "display_name": "Python 3",
   "language": "python",
   "name": "python3"
  },
  "language_info": {
   "codemirror_mode": {
    "name": "ipython",
    "version": 3
   },
   "file_extension": ".py",
   "mimetype": "text/x-python",
   "name": "python",
   "nbconvert_exporter": "python",
   "pygments_lexer": "ipython3",
   "version": "3.6.7"
  }
 },
 "nbformat": 4,
 "nbformat_minor": 2
}
